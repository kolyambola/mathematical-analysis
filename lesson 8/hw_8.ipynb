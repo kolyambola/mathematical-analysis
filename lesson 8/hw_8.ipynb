{
 "cells": [
  {
   "cell_type": "markdown",
   "id": "52fad84e",
   "metadata": {},
   "source": [
    "1. Найти область определения функции"
   ]
  },
  {
   "cell_type": "markdown",
   "id": "c1f350a7",
   "metadata": {},
   "source": [
    "$$z=\\sqrt{1-x^{3}}+\\ln \\left( y^{2}-1 \\right)$$"
   ]
  },
  {
   "cell_type": "markdown",
   "id": "b8b38486",
   "metadata": {},
   "source": [
    "__Решение:__"
   ]
  },
  {
   "cell_type": "markdown",
   "id": "5fca2aeb",
   "metadata": {},
   "source": [
    "$$1-x^{3} \\geq 0$$\n",
    "$$x^{3} \\leq 1$$\n",
    "$$x \\leq 1$$"
   ]
  },
  {
   "cell_type": "markdown",
   "id": "213b3c34",
   "metadata": {},
   "source": [
    "$$y^{2}-1>0$$\n",
    "$$y^{2}>1$$\n",
    "$$y \\in \\mathbf{R}: y<-1,\\;y>1$$"
   ]
  },
  {
   "cell_type": "markdown",
   "id": "5fb04523",
   "metadata": {},
   "source": [
    "2. Найти производные первого порядка функции."
   ]
  },
  {
   "cell_type": "markdown",
   "id": "8be8fbfe",
   "metadata": {},
   "source": [
    "$$z=\\left( 1+ \\frac{\\ln x}{\\ln y} \\right)^{3}$$"
   ]
  },
  {
   "cell_type": "markdown",
   "id": "81c9acb7",
   "metadata": {},
   "source": [
    "__Решение:__"
   ]
  },
  {
   "cell_type": "markdown",
   "id": "171d88ca",
   "metadata": {},
   "source": [
    "$$z_{x}^{'}=3 \\left( 1+ \\frac{\\ln x}{\\ln y} \\right)^{2} \\cdot \\frac{1}{x \\ln y}=\\frac{3}{x \\ln y} \\left( 1+ \\frac{\\ln x}{\\ln y} \\right)^{2}$$"
   ]
  },
  {
   "cell_type": "markdown",
   "id": "8bcb1705",
   "metadata": {},
   "source": [
    "$$z_{y}^{'}=3 \\left( 1+ \\frac{\\ln x}{\\ln y} \\right)^{2} \\cdot \\ln x \\cdot \\left( \\frac{1}{\\ln y} \\right)^{'}=3 \\left( 1+ \\frac{\\ln x}{\\ln y} \\right)^{2} \\cdot \\ln x \\cdot \\left( \\ln^{-1}y \\right)^{'}=-3 \\left( 1+ \\frac{\\ln x}{\\ln y} \\right)^{2} \\cdot \\ln x \\cdot \\left( \\frac{1}{y \\ln^{2}y} \\right)=- \\frac{3 \\ln x \\left( 1+ \\frac{\\ln x}{\\ln y} \\right)^{2}}{y \\ln^{2}y}$$"
   ]
  },
  {
   "cell_type": "markdown",
   "id": "4394256f",
   "metadata": {},
   "source": [
    "3. Найти полный дифференциал функции в точке (1;1)."
   ]
  },
  {
   "cell_type": "markdown",
   "id": "1afe9b28",
   "metadata": {},
   "source": [
    "$$z=\\sqrt{2xy+ \\cos \\frac{x}{y}}$$"
   ]
  },
  {
   "cell_type": "markdown",
   "id": "0db8c54d",
   "metadata": {},
   "source": [
    "__Решение:__"
   ]
  },
  {
   "cell_type": "markdown",
   "id": "cf4fd0a0",
   "metadata": {},
   "source": [
    "$$\\frac{\\partial z}{\\partial x}=\\left( \\left( 2xy+\\cos \\frac{x}{y} \\right)^{\\frac{1}{2}} \\right)^{'}=\\frac{1}{2} \\cdot \\frac{1}{\\left( 2xy+\\cos \\frac{x}{y} \\right)^{\\frac{1}{2}}} \\cdot \\left(2y- \\sin \\frac{x}{y} \\cdot \\frac{1}{y} \\right) =\\frac{2y-\\frac{1}{y}\\sin \\frac{x}{y}}{2\\sqrt{2xy+\\cos \\frac{x}{y}}}$$"
   ]
  },
  {
   "cell_type": "markdown",
   "id": "d8f119b1",
   "metadata": {},
   "source": [
    "$$\\frac{\\partial z}{\\partial y}=\\left( \\left( 2xy+\\cos \\frac{x}{y} \\right)^{\\frac{1}{2}} \\right)^{'}=\\frac{1}{2} \\cdot \\frac{1}{\\left( 2xy+\\cos \\frac{x}{y} \\right)^{\\frac{1}{2}}} \\cdot \\left(2x- \\sin \\frac{x}{y} \\cdot \\left( -\\frac{x}{y^{2}} \\right) \\right)=\\frac{x\\left( 2+\\frac{1}{y^{2}}\\sin \\frac{x}{y} \\right)}{2\\sqrt{2xy+\\cos \\frac{x}{y}}}$$"
   ]
  },
  {
   "cell_type": "markdown",
   "id": "1fd5c11f",
   "metadata": {},
   "source": [
    "$$dz=\\frac{\\partial z}{\\partial x}dx + \\frac{\\partial z}{\\partial y}dy$$"
   ]
  },
  {
   "cell_type": "markdown",
   "id": "bb9aa648",
   "metadata": {},
   "source": [
    "$$dz=\\frac{2y-\\frac{1}{y}\\sin \\frac{x}{y}}{2\\sqrt{2xy+\\cos \\frac{x}{y}}}dx+\\frac{x\\left( 2+\\frac{1}{y^{2}}\\sin \\frac{x}{y} \\right)}{2\\sqrt{2xy+\\cos \\frac{x}{y}}}dy$$"
   ]
  },
  {
   "cell_type": "markdown",
   "id": "ecbc4c18",
   "metadata": {},
   "source": [
    "4. Исследовать на экстремум функцию"
   ]
  },
  {
   "cell_type": "markdown",
   "id": "09615dda",
   "metadata": {},
   "source": [
    "$$z=x^{2}+xy+y^{2}-6x-9y$$"
   ]
  },
  {
   "cell_type": "markdown",
   "id": "3716a1bf",
   "metadata": {},
   "source": [
    "__Решение:__"
   ]
  },
  {
   "cell_type": "markdown",
   "id": "e0f209cd",
   "metadata": {},
   "source": [
    "Найдём частные первые производные и определим критические точки"
   ]
  },
  {
   "cell_type": "markdown",
   "id": "6db0c5f7",
   "metadata": {},
   "source": [
    "$$\\begin{cases}\n",
    "   \\frac{\\partial z}{\\partial x}=2x+y-6=0\\\\\n",
    "   \\frac{\\partial z}{\\partial y}=x+2y-9=0\n",
    " \\end{cases}$$"
   ]
  },
  {
   "cell_type": "markdown",
   "id": "8e1336c4",
   "metadata": {},
   "source": [
    "$$(1):\\;2x+y-6=0$$\n",
    "$$из\\;(2):\\;x=9-2y$$\n",
    "$$в\\;(1):\\;2\\cdot(9-2y)+y-6=0$$\n",
    "$$18-4y+y-6=0$$\n",
    "$$12-3y=0$$\n",
    "$$y=4$$\n",
    "$$x=9-2\\cdot4$$\n",
    "$$x=1$$"
   ]
  },
  {
   "cell_type": "markdown",
   "id": "fa4f091a",
   "metadata": {},
   "source": [
    "Критическая точка $M(1;4)$"
   ]
  },
  {
   "cell_type": "markdown",
   "id": "90dfe791",
   "metadata": {},
   "source": [
    "Определим частные вторые производные"
   ]
  },
  {
   "cell_type": "markdown",
   "id": "d1e4eab2",
   "metadata": {},
   "source": [
    "$$\\frac{\\partial^{2} z}{\\partial x^{2}}=2$$"
   ]
  },
  {
   "cell_type": "markdown",
   "id": "01b50761",
   "metadata": {},
   "source": [
    "$$\\frac{\\partial^{2} z}{\\partial y^{2}}=2$$"
   ]
  },
  {
   "cell_type": "markdown",
   "id": "8e64fb62",
   "metadata": {},
   "source": [
    "$$\\frac{\\partial^{2} z}{\\partial x \\partial y}=1$$"
   ]
  },
  {
   "cell_type": "markdown",
   "id": "11f17433",
   "metadata": {},
   "source": [
    "$$\\Delta(M)=\\begin{vmatrix}\n",
    "2 & 1\\\\ \n",
    "1 & 2\n",
    "\\end{vmatrix}=2\\cdot2-1=3>0,\\;значит,\\;в\\;точке\\;M(1;4)\\;-\\;минимум$$"
   ]
  }
 ],
 "metadata": {
  "kernelspec": {
   "display_name": "Python 3 (ipykernel)",
   "language": "python",
   "name": "python3"
  },
  "language_info": {
   "codemirror_mode": {
    "name": "ipython",
    "version": 3
   },
   "file_extension": ".py",
   "mimetype": "text/x-python",
   "name": "python",
   "nbconvert_exporter": "python",
   "pygments_lexer": "ipython3",
   "version": "3.9.12"
  }
 },
 "nbformat": 4,
 "nbformat_minor": 5
}
