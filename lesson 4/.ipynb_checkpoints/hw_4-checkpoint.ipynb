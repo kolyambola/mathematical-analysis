{
 "cells": [
  {
   "cell_type": "markdown",
   "id": "cd4e8bc0",
   "metadata": {},
   "source": [
    "1) Найти область определения функции:\n",
    "<br>$а)\\;f(x)=\\ln {(x+2)}.$"
   ]
  },
  {
   "cell_type": "markdown",
   "id": "58882a39",
   "metadata": {},
   "source": [
    "__Решение:__"
   ]
  },
  {
   "cell_type": "markdown",
   "id": "7c29084d",
   "metadata": {},
   "source": [
    "$$x+2>0$$\n",
    "$$x>-2$$"
   ]
  },
  {
   "cell_type": "markdown",
   "id": "2ee59cd1",
   "metadata": {},
   "source": [
    "$$\\{ x \\in \\mathbf{R}: x>-2$$"
   ]
  },
  {
   "cell_type": "markdown",
   "id": "18bdcc8d",
   "metadata": {},
   "source": [
    "2) Построить график функции:\n",
    "<br>$а)\\; y=x^{2}+4x+3;$\n",
    "<br>$б)\\; y=-2\\sin 3x;$\n",
    "<br>$в)\\; y=\\left| \\{ x \\} - \\frac{1}{2} \\right|.$"
   ]
  },
  {
   "cell_type": "markdown",
   "id": "63b32d46",
   "metadata": {},
   "source": [
    "__Решение:__"
   ]
  },
  {
   "cell_type": "markdown",
   "id": "8daae247",
   "metadata": {},
   "source": [
    "$$а)\\; y=x^{2}+4x+3$$"
   ]
  },
  {
   "cell_type": "markdown",
   "id": "ca977c95",
   "metadata": {},
   "source": [
    "<img src='photo_2023-03-16_00-09-58.jpg'>"
   ]
  },
  {
   "cell_type": "markdown",
   "id": "4b302323",
   "metadata": {},
   "source": [
    "$$б)\\; y=-2\\sin 3x$$"
   ]
  },
  {
   "cell_type": "markdown",
   "id": "6a210d1f",
   "metadata": {},
   "source": [
    "<img src='photo_2023-03-16_00-09-58 (2).jpg'>"
   ]
  },
  {
   "cell_type": "markdown",
   "id": "80355c29",
   "metadata": {},
   "source": [
    "3) Найти пределы:"
   ]
  },
  {
   "cell_type": "markdown",
   "id": "70cffd84",
   "metadata": {},
   "source": [
    "$$1)\\;\\lim_{x\\to 5} \\frac{x^{2}-6x+5}{x^{2}-25}=\\left( \\frac{0}{0} \\right)=\\lim_{x\\to 5} \\frac{(x-5)(x-1)}{(x-5)(x+5)}=\\lim_{x\\to 5} \\frac{x-1}{x+5}=\\frac{2}{5};$$"
   ]
  },
  {
   "cell_type": "markdown",
   "id": "63678a4c",
   "metadata": {},
   "source": [
    "$$2)\\;\\lim_{x\\to -1} \\frac{x^{3}+x+2}{x^{3}+1}=\\left( \\frac{0}{0} \\right)=\\lim_{x\\to -1} \\frac{(x+1)(x^{2}-x+2)}{(x+1)(x^{2}-x+1)}=\\lim_{x\\to -1} \\frac{x^{2}-x+2}{x^{2}-x+1}=\\frac{4}{3};$$"
   ]
  },
  {
   "cell_type": "markdown",
   "id": "590d2f80",
   "metadata": {},
   "source": [
    "$$3)\\;\\lim_{x\\to 3} \\frac{\\sqrt{2x+3}-3}{\\sqrt{x-2}-1}=\\left( \\frac{0}{0} \\right)=\\lim_{x\\to 3} \\frac{\\sqrt{2x+3}-3}{\\sqrt{x-2}-1} \\cdot \\frac{\\sqrt{2x+3}+3}{\\sqrt{2x+3}+3} \\cdot \\frac{\\sqrt{x-2}+1}{\\sqrt{x-2}+1}=\\lim_{x\\to 3} \\frac{2x-5}{x}\\cdot \\frac{\\sqrt{x-2}}{\\sqrt{2x+3}}=\\frac{1}{9};$$"
   ]
  },
  {
   "cell_type": "markdown",
   "id": "d813378e",
   "metadata": {},
   "source": [
    "$$4)\\;\\lim_{x\\to 0} \\frac{1-\\cos{x}}{x^{2}}=\\left( \\frac{0}{0} \\right)=\\lim_{x\\to 0} \\frac{2 \\sin^{2}{\\frac{x}{2}}}{x^{2}}=\\lim_{x\\to 0} \\frac{2 \\sin^{2}{\\frac{x}{2}}}{4 \\left( \\frac{x}{2}\\right)^{2}}=\\frac{1}{2};$$"
   ]
  },
  {
   "cell_type": "markdown",
   "id": "9a23a4ec",
   "metadata": {},
   "source": [
    "$$5)\\;\\lim_{x\\to 0} x \\cdot ctgx=\\left( 0 \\cdot \\infty \\right)=\\lim_{x\\to 0} x \\cdot \\frac{\\cos{x}}{\\sin{x}}=\\lim_{x\\to 0} \\frac{\\cos{x}}{\\frac{\\sin{x}}{x}}=\\lim_{x\\to 0} \\cos{x}=1;$$"
   ]
  },
  {
   "cell_type": "markdown",
   "id": "e39ac2ac",
   "metadata": {},
   "source": [
    "$$6)\\;\\lim_{x\\to 0} \\sqrt[2x]{1+3x}=\\left( 1^{\\infty} \\right)=\\lim_{x\\to 0} (1+3x)^{\\frac{1}{2x}}=\\lim_{x\\to 0} (1+3x)^{\\frac{1}{3x} \\cdot \\frac{3}{2}}=e\\sqrt{e};$$"
   ]
  },
  {
   "cell_type": "markdown",
   "id": "e4816cc8",
   "metadata": {},
   "source": [
    "$$7)\\;\\lim_{x\\to 0} \\left(\\frac{3+5x}{3+2x}\\right)^{\\frac{1}{x}}=\\left( 1^{\\infty} \\right)=;$$"
   ]
  }
 ],
 "metadata": {
  "kernelspec": {
   "display_name": "Python 3 (ipykernel)",
   "language": "python",
   "name": "python3"
  },
  "language_info": {
   "codemirror_mode": {
    "name": "ipython",
    "version": 3
   },
   "file_extension": ".py",
   "mimetype": "text/x-python",
   "name": "python",
   "nbconvert_exporter": "python",
   "pygments_lexer": "ipython3",
   "version": "3.9.12"
  }
 },
 "nbformat": 4,
 "nbformat_minor": 5
}
