{
 "cells": [
  {
   "cell_type": "markdown",
   "id": "0c5a0fbc",
   "metadata": {},
   "source": [
    "1. Найти производную выражения:"
   ]
  },
  {
   "cell_type": "markdown",
   "id": "2caabdb7",
   "metadata": {},
   "source": [
    "$$a)\\; \\sin x \\cdot \\cos x;$$\n",
    "$$b)\\; \\ln (2x+1)^{3};$$\n",
    "$$c)\\; \\sqrt{\\sin^{2} (\\ln (x^{3}))};$$\n",
    "$$d)\\; \\frac{x^{4}}{\\ln (x)}.$$"
   ]
  },
  {
   "cell_type": "markdown",
   "id": "65abcf08",
   "metadata": {},
   "source": [
    "__Решение:__"
   ]
  },
  {
   "cell_type": "markdown",
   "id": "5b1d649b",
   "metadata": {},
   "source": [
    "$$a)\\; (\\sin x \\cdot \\cos x)'=(\\sin x)' \\cdot \\cos x + \\sin x \\cdot (\\cos x)'=\\cos^{2}x-\\sin^{2} x;$$"
   ]
  },
  {
   "cell_type": "markdown",
   "id": "f18a3113",
   "metadata": {},
   "source": [
    "$$b)\\; (\\ln (2x+1)^{3})'=\\frac{1}{(2x+1)^{3}} \\cdot ((2x+1)^{3})'=\\frac{3}{(2x+1)^{3}} \\cdot  (2x+1)^{2} \\cdot (2x+1)'=\\frac{6}{2x+1};$$"
   ]
  },
  {
   "cell_type": "markdown",
   "id": "6c36a7a4",
   "metadata": {},
   "source": [
    "$$c)\\; (\\sqrt{\\sin^{2} (\\ln (x^{3}))})'=\\frac{1}{2\\sqrt{\\sin^{2} (\\ln (x^{3}))}} \\cdot (\\sin^{2} (\\ln (x^{3})))'=\\frac{\\sin (\\ln (x^{3}))}{\\sqrt{\\sin^{2} (\\ln (x^{3}))}} \\cdot \\cos (\\ln (x^{3})) \\cdot (\\ln (x^{3}))'=\\frac{\\sin (\\ln (x^{3})) \\cos (\\ln (x^{3}))}{\\sqrt{\\sin^{2} (\\ln (x^{3}))}} \\cdot \\frac{1}{x^{3}} \\cdot 3x^{2}=\\frac{3\\sin (\\ln (x^{3})) \\cos (\\ln (x^{3}))}{x \\sqrt{\\sin^{2} (\\ln (x^{3}))}};$$"
   ]
  },
  {
   "cell_type": "markdown",
   "id": "e94e54f0",
   "metadata": {},
   "source": [
    "$$d)\\; \\left( \\frac{x^{4}}{\\ln (x)} \\right)'=\\frac{4x^{3} \\cdot \\ln x - x^{4} \\cdot \\frac{1}{x}}{\\ln^{2}x}=\\frac{x^{3}(4 \\ln x - 1)}{\\ln^{2}x}.$$"
   ]
  },
  {
   "cell_type": "markdown",
   "id": "8bbbd287",
   "metadata": {},
   "source": [
    "2. Найти выражение производной функции и её значение в точке:"
   ]
  },
  {
   "cell_type": "markdown",
   "id": "39422f1b",
   "metadata": {},
   "source": [
    "$$f(x)=\\cos (x^{2}+3x),\\; x_{0}=\\sqrt{\\pi}$$"
   ]
  },
  {
   "cell_type": "markdown",
   "id": "8145958a",
   "metadata": {},
   "source": [
    "__Решение:__"
   ]
  },
  {
   "cell_type": "markdown",
   "id": "70d16698",
   "metadata": {},
   "source": [
    "$$f'(x)=- \\sin (x^{2}+3x) \\cdot (x^{2}+3x)'=- \\sin (x^{2}+3x) \\cdot (2x+3)$$"
   ]
  },
  {
   "cell_type": "markdown",
   "id": "b60f3b4d",
   "metadata": {},
   "source": [
    "$$f'(x_{0})=- \\sin (\\pi+3\\sqrt{\\pi}) \\cdot (2\\sqrt{\\pi}+3)$$"
   ]
  },
  {
   "cell_type": "markdown",
   "id": "9b807834",
   "metadata": {},
   "source": [
    "3. Найти выражение производной функции в точке:"
   ]
  },
  {
   "cell_type": "markdown",
   "id": "2c74f37e",
   "metadata": {},
   "source": [
    "$$f(x)=\\frac{x^{3}-x^{2}-x-1}{1+2x+3x^{2}-4x^{3}}, \\; x_{0}=0$$"
   ]
  },
  {
   "cell_type": "markdown",
   "id": "7b2a741a",
   "metadata": {},
   "source": [
    "__Решение:__"
   ]
  },
  {
   "cell_type": "markdown",
   "id": "3f94da2d",
   "metadata": {},
   "source": [
    "$$f'(x)=\\frac{(3x^{2}-2x-1)(1+2x+3x^{2}-4x^{3})-(x^{3}-x^{2}-x-1)(2+6x-12x^{2})}{(1+2x+3x^{2}-4x^{3})^{2}}=\\frac{-x^{4}-4x^{3}-8x^{2}+4x+1}{(1+2x+3x^{2}-4x^{3})^{2}}$$"
   ]
  },
  {
   "cell_type": "markdown",
   "id": "afed0533",
   "metadata": {},
   "source": [
    "$$f'(x_{0})=1$$"
   ]
  },
  {
   "cell_type": "markdown",
   "id": "0a26f567",
   "metadata": {},
   "source": [
    "4. Найти угол наклона касательной к графику функции в точке:"
   ]
  },
  {
   "cell_type": "markdown",
   "id": "8a29cdc4",
   "metadata": {},
   "source": [
    "$$f(x)=\\sqrt{3x} \\cdot \\ln x, \\; x_{0}=1$$"
   ]
  },
  {
   "cell_type": "markdown",
   "id": "805a0ccf",
   "metadata": {},
   "source": [
    "__Решение:__"
   ]
  },
  {
   "cell_type": "markdown",
   "id": "194ba586",
   "metadata": {},
   "source": [
    "$$f'(x)=\\frac {3}{2 \\sqrt{3x}} \\cdot \\ln x + \\frac{\\sqrt{3x}}{x}$$"
   ]
  },
  {
   "cell_type": "markdown",
   "id": "522cd70b",
   "metadata": {},
   "source": [
    "$$f'(x_{0})=\\sqrt{3}$$"
   ]
  },
  {
   "cell_type": "markdown",
   "id": "0b9b42a0",
   "metadata": {},
   "source": [
    "$$tg \\alpha = f'(x_{0}) = \\sqrt{3}$$"
   ]
  },
  {
   "cell_type": "markdown",
   "id": "763ce17a",
   "metadata": {},
   "source": [
    "$$\\alpha=arctg \\sqrt{3}=60^{\\circ}$$"
   ]
  }
 ],
 "metadata": {
  "kernelspec": {
   "display_name": "Python 3 (ipykernel)",
   "language": "python",
   "name": "python3"
  },
  "language_info": {
   "codemirror_mode": {
    "name": "ipython",
    "version": 3
   },
   "file_extension": ".py",
   "mimetype": "text/x-python",
   "name": "python",
   "nbconvert_exporter": "python",
   "pygments_lexer": "ipython3",
   "version": "3.9.12"
  }
 },
 "nbformat": 4,
 "nbformat_minor": 5
}
