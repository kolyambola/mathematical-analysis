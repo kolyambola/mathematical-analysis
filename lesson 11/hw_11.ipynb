{
 "cells": [
  {
   "cell_type": "markdown",
   "id": "47a6b0df",
   "metadata": {},
   "source": [
    "1. Решить уравнения:"
   ]
  },
  {
   "cell_type": "markdown",
   "id": "915eabbf",
   "metadata": {},
   "source": [
    "$$1.\\;y'-y=2x-3;$$\n",
    "$$2.\\;x^{2}y'+xy+1=0.$$"
   ]
  },
  {
   "cell_type": "markdown",
   "id": "ca11ee6d",
   "metadata": {},
   "source": [
    "__Решение:__"
   ]
  },
  {
   "cell_type": "markdown",
   "id": "f5239869",
   "metadata": {},
   "source": [
    "$$1.\\;y'-y=2x-3$$\n",
    "$$y'=y+2x$$"
   ]
  },
  {
   "cell_type": "markdown",
   "id": "02a0cf72",
   "metadata": {},
   "source": [
    "$$z=y+2x$$\n",
    "$$y'=z'-2$$"
   ]
  },
  {
   "cell_type": "markdown",
   "id": "6c8798b8",
   "metadata": {},
   "source": [
    "$$z'-2=z-3$$\n",
    "$$z'=z-1$$\n",
    "$$\\frac{dz}{dx}=t-1$$\n",
    "$$\\frac{dz}{z-1}=dx$$\n",
    "$$\\ln |z-1|=x + C$$\n",
    "$$z-1=Ce^{x}$$\n",
    "$$z=Ce^{x} + 1$$"
   ]
  },
  {
   "cell_type": "markdown",
   "id": "b1d1a163",
   "metadata": {},
   "source": [
    "$$y+2x = Ce^{x} + 1$$\n",
    "$$y = Ce^{x} + 1 - 2x$$"
   ]
  },
  {
   "cell_type": "markdown",
   "id": "9a2e4be0",
   "metadata": {},
   "source": [
    "$$2.\\;x^{2}y'+xy+1=0$$"
   ]
  },
  {
   "cell_type": "markdown",
   "id": "4b743a7d",
   "metadata": {},
   "source": [
    "$$1)\\;x^{2}y'+xy = 0$$\n",
    "$$x^{2}y' = -xy$$\n",
    "$$xy' = -y$$\n",
    "$$x\\frac{dy}{dx} = -y$$\n",
    "$$\\frac{dy}{y} = -\\frac{dx}{x}$$\n",
    "$$\\ln |y| = -\\ln x + C$$\n",
    "$$y = \\frac{C}{x}$$"
   ]
  },
  {
   "cell_type": "markdown",
   "id": "1417f61f",
   "metadata": {},
   "source": [
    "$$2)\\;y' = \\frac{C'x - C}{x^{2}}$$\n",
    "$$x^{2}\\cdot \\frac{C'x - C}{x^{2}} + x\\cdot \\frac{C}{x} + 1 = 0$$\n",
    "$$C'x - C + C + 1 = 0$$\n",
    "$$C'x + 1 = 0$$\n",
    "$$C' = -\\frac{1}{x}$$\n",
    "$$C = -\\ln |x| + C_{1}$$"
   ]
  },
  {
   "cell_type": "markdown",
   "id": "37e1eb99",
   "metadata": {},
   "source": [
    "$$y = \\frac{-\\ln |x| + C}{x}$$\n",
    "$$xy = C - \\ln |x|$$"
   ]
  },
  {
   "cell_type": "markdown",
   "id": "b589898d",
   "metadata": {},
   "source": [
    "2. Исследовать ряд на сходимость:"
   ]
  },
  {
   "cell_type": "markdown",
   "id": "8b40f61d",
   "metadata": {},
   "source": [
    "$$1.\\;\\sum_{n=1}^{\\infty} \\frac{n+2}{n^{2}+n+1}$$\n",
    "$$\\lim_{n\\to \\infty} \\frac{n+2}{n^{2}+n+1} \\geq \\lim_{n\\to \\infty} \\frac{n}{n^{2}} = \\lim_{n \\to \\infty} \\frac{1}{n}$$\n",
    "$$Поскольку\\;\\sum_{n=1}^{\\infty} \\frac{1}{n^{p}},\\;где\\;p=1,\\;то\\;ряд\\;расходится.\\;Следоватльно,\\;исходный\\;ряд\\;расходится.$$"
   ]
  },
  {
   "cell_type": "markdown",
   "id": "c277c6c0",
   "metadata": {},
   "source": [
    "$$2.\\;\\sum_{n=1}^{\\infty} \\frac{n^{n}}{n!}$$\n",
    "$$\\lim_{n\\to \\infty} \\frac{n^{n}}{n!} = \\infty \\neq 0\\;-\\;ряд \\;расходится.$$ "
   ]
  },
  {
   "cell_type": "markdown",
   "id": "8e31bb97",
   "metadata": {},
   "source": [
    "$$3.\\;\\sum_{n=1}^{\\infty} n\\cdot \\left( 1 - \\frac{1}{n} \\right)^{n^{2}}$$\n",
    "$$\\lim_{n\\to \\infty} n\\cdot \\left( 1 - \\frac{1}{n} \\right)^{n^{2}} = \\infty \\neq 0\\;-\\;ряд \\;расходится.$$ "
   ]
  },
  {
   "cell_type": "markdown",
   "id": "03fddcbc",
   "metadata": {},
   "source": [
    "$$4.\\;\\sum_{n=1}^{\\infty} \\frac{(-1)^{n+1}}{2n - \\ln n}$$\n",
    "Используем признак Лейбница:\n",
    "$$1)\\;\\sum_{n=1}^{\\infty} \\frac{(-1)^{n+1}}{2n - \\ln n} = \\frac{1}{2} - \\frac{1}{4 - \\ln 2} + \\frac{1}{6 - \\ln 3} - \\frac{1}{8 - \\ln 4} + ...$$\n",
    "Ряд знакочередующийся"
   ]
  },
  {
   "cell_type": "markdown",
   "id": "c145c870",
   "metadata": {},
   "source": [
    "$$2)\\;\\lim_{n \\to \\infty} \\frac{1}{2n - \\ln n} = 0\\;-\\;члены\\;ряда\\;убывают\\;по\\;модулю.$$\n",
    "Ряд сходится."
   ]
  }
 ],
 "metadata": {
  "kernelspec": {
   "display_name": "Python 3 (ipykernel)",
   "language": "python",
   "name": "python3"
  },
  "language_info": {
   "codemirror_mode": {
    "name": "ipython",
    "version": 3
   },
   "file_extension": ".py",
   "mimetype": "text/x-python",
   "name": "python",
   "nbconvert_exporter": "python",
   "pygments_lexer": "ipython3",
   "version": "3.9.12"
  }
 },
 "nbformat": 4,
 "nbformat_minor": 5
}
