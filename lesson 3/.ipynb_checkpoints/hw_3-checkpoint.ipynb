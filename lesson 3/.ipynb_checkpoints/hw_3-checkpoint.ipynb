{
 "cells": [
  {
   "cell_type": "markdown",
   "id": "0dc78738",
   "metadata": {},
   "source": [
    "1) Пусть $x_{n}=n^{(-1)^{n}}.$ Доказать, что последовательность $\\{x_{n}\\}$: а) неограниченная; б) не является бесконечно большой."
   ]
  },
  {
   "cell_type": "markdown",
   "id": "62d63d47",
   "metadata": {},
   "source": [
    "__Решение:__"
   ]
  },
  {
   "cell_type": "markdown",
   "id": "32b098e4",
   "metadata": {},
   "source": [
    "Элементы с четными номерами $n=2k$ стремятся к $+\\infty$, элементы с нечетными номерами $n=2k-1$ стремятся к 0 - искомая последовательность не может быть бесконечно большой, ибо в любой окрестности 0 содержится бесконечное множество элементов этой последовательности."
   ]
  },
  {
   "cell_type": "markdown",
   "id": "a875106e",
   "metadata": {},
   "source": [
    "2) Доказать, что последовательность $\\{ \\sin n \\}$ расходится."
   ]
  },
  {
   "cell_type": "markdown",
   "id": "85221b73",
   "metadata": {},
   "source": [
    "__Решение:__"
   ]
  },
  {
   "cell_type": "markdown",
   "id": "16a3874f",
   "metadata": {},
   "source": [
    "Используем условие сходимости: $\\lim_{x\\to \\infty} \\sin n=0$"
   ]
  },
  {
   "cell_type": "markdown",
   "id": "edcf8a74",
   "metadata": {},
   "source": [
    "А предел не существует, так как функция $\\sin n$ всё время меняет свое значение [-1; 1]. То есть функция ограничена, но не монотонная, следовательно, расходится."
   ]
  },
  {
   "cell_type": "markdown",
   "id": "2597605a",
   "metadata": {},
   "source": [
    "3) Найти пределы:\n",
    "<br>$$а)\\;\\lim_{x\\to \\infty} \\frac{10n}{n^{2}+1};$$\n",
    "<br>$$\\;б)\\;\\lim_{x\\to \\infty} \\frac{n^{2}-n}{n-\\sqrt n};$$ \n",
    "<br>$$\\;в)\\;\\lim_{x\\to\\infty} \\frac{5 \\cdot 3n}{3^{n}-2};$$"
   ]
  },
  {
   "cell_type": "markdown",
   "id": "87371a03",
   "metadata": {},
   "source": [
    "__Решение:__"
   ]
  },
  {
   "cell_type": "markdown",
   "id": "804c172f",
   "metadata": {},
   "source": [
    "$$а)\\;\\lim_{x\\to \\infty} \\frac{10n}{n^{2}+1}=\\left( \\frac{\\infty}{\\infty} \\right)=10\\lim_{x\\to \\infty} \\frac{\\frac{1}{n}}{1+\\frac{1}{n^{2}}}=10\\lim_{x\\to\\infty} \\frac{0}{1}=0;$$"
   ]
  },
  {
   "cell_type": "markdown",
   "id": "a3cca1f4",
   "metadata": {},
   "source": [
    "$$\\;б)\\;\\lim_{x\\to \\infty} \\frac{n^{2}-n}{n-\\sqrt n}=\\left( \\frac{\\infty}{\\infty} \\right)=\\lim_{x\\to \\infty} \\frac{1-\\frac{1}{n}}{\\frac{1}{n}-\\sqrt{\\frac{1}{n^{3}}}}=\\lim_{x\\to \\infty} \\frac{1}{0}=\\infty;$$"
   ]
  },
  {
   "cell_type": "markdown",
   "id": "5303fa41",
   "metadata": {},
   "source": [
    "$$\\;в)\\;\\lim_{x\\to\\infty} \\frac{5 \\cdot 3n}{3^{n}-2}=\\left( \\frac{\\infty}{\\infty} \\right)=15\\lim_{x\\to\\infty} \\frac{\\frac {n}{3^{n}}}{1-\\frac{2}{3^{n}}}=15\\lim_{x\\to\\infty} \\frac{0}{1}=0.$$"
   ]
  },
  {
   "cell_type": "markdown",
   "id": "f2df7af1",
   "metadata": {},
   "source": [
    "4) Найти предел $\\lim_{x\\to \\infty} (\\sqrt{n^{2}+n}-n).$"
   ]
  },
  {
   "cell_type": "markdown",
   "id": "918d586f",
   "metadata": {},
   "source": [
    "__Решение:__"
   ]
  },
  {
   "cell_type": "markdown",
   "id": "b5967373",
   "metadata": {},
   "source": [
    "$$\\lim_{x\\to \\infty} (\\sqrt{n^{2}+n}-n)=(\\infty-\\infty)=\\lim_{x\\to \\infty} (\\sqrt{n^{2}+n}-n) \\frac{\\sqrt{n^{2}+n}+n}{\\sqrt{n^{2}+n}+n}=\\lim_{x\\to \\infty} \\frac{n^{2}+n-n^{2}}{\\sqrt{n^{2}+n}+n}=\\lim_{x\\to \\infty} \\frac{n}{\\sqrt{n^{2}+n}+n}=\\left( \\frac{\\infty}{\\infty} \\right)=\\lim_{x\\to \\infty} \\frac{1}{\\sqrt{n+1}+1}=\\left( \\frac{1}{\\infty} \\right)=0.$$"
   ]
  },
  {
   "cell_type": "markdown",
   "id": "0c9e56b5",
   "metadata": {},
   "source": [
    "5) Вычислить $\\lim_{x\\to \\infty} \\frac{\\sqrt{n}\\cos n}{n+1}.$"
   ]
  },
  {
   "cell_type": "markdown",
   "id": "fd0de7c3",
   "metadata": {},
   "source": [
    "__Решение:__"
   ]
  },
  {
   "cell_type": "markdown",
   "id": "c2470a50",
   "metadata": {},
   "source": [
    "Используем теорему о двух милиционерах"
   ]
  },
  {
   "cell_type": "markdown",
   "id": "5b5a4a6b",
   "metadata": {},
   "source": [
    "$$-1 \\leq \\cos n \\leq 1$$"
   ]
  },
  {
   "cell_type": "markdown",
   "id": "d1265561",
   "metadata": {},
   "source": [
    "$$-\\frac{\\sqrt{n}}{n+1} \\leq \\frac{\\sqrt{n}\\cos n}{n+1} \\leq \\frac{\\sqrt{n}}{n+1}$$"
   ]
  },
  {
   "cell_type": "markdown",
   "id": "8ffe0f5f",
   "metadata": {},
   "source": [
    "$$\\lim_{x\\to \\infty} \\left(-\\frac{\\sqrt{n}}{n+1}\\right)=-\\lim_{x\\to \\infty} \\frac{\\frac{1}{\\sqrt{n}}}{1+\\frac{1}{n}}=0$$"
   ]
  },
  {
   "cell_type": "markdown",
   "id": "163c2e75",
   "metadata": {},
   "source": [
    "$$\\lim_{x\\to \\infty} \\frac{\\sqrt{n}}{n+1}=\\lim_{x\\to \\infty} \\frac{\\frac{1}{\\sqrt{n}}}{1+\\frac{1}{n}}=0$$"
   ]
  },
  {
   "cell_type": "markdown",
   "id": "5469d233",
   "metadata": {},
   "source": [
    "$$\\lim_{x\\to \\infty} \\frac{\\sqrt{n}\\cos n}{n+1}=0$$."
   ]
  }
 ],
 "metadata": {
  "kernelspec": {
   "display_name": "Python 3 (ipykernel)",
   "language": "python",
   "name": "python3"
  },
  "language_info": {
   "codemirror_mode": {
    "name": "ipython",
    "version": 3
   },
   "file_extension": ".py",
   "mimetype": "text/x-python",
   "name": "python",
   "nbconvert_exporter": "python",
   "pygments_lexer": "ipython3",
   "version": "3.9.12"
  }
 },
 "nbformat": 4,
 "nbformat_minor": 5
}
