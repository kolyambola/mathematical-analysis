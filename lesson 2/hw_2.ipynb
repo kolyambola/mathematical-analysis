{
 "cells": [
  {
   "cell_type": "markdown",
   "id": "34f480aa",
   "metadata": {},
   "source": [
    "**1. Представьте в виде несократимой рациональной дроби:**\n",
    "    <br>$а)\\; 0.(216);$\n",
    "    <br>$б)\\; 1.0(01).$"
   ]
  },
  {
   "cell_type": "markdown",
   "id": "d5e2ef10",
   "metadata": {},
   "source": [
    "**Решение:**"
   ]
  },
  {
   "cell_type": "markdown",
   "id": "94d08958",
   "metadata": {},
   "source": [
    "а) $$a=0.(216)$$\n",
    "$$1000a=216.(216)$$\n",
    "$$1000a=216+0.(216)$$\n",
    "$$1000a=216+a$$\n",
    "$$999a=216$$\n",
    "$$a=\\frac{216}{999}=\\frac{24}{111}$$"
   ]
  },
  {
   "cell_type": "markdown",
   "id": "9b64be73",
   "metadata": {},
   "source": [
    "б)$$a=0.(01)$$\n",
    "$$100a=1.(01)$$\n",
    "$$100a=1+0.(01)$$\n",
    "$$100a=1+a$$\n",
    "$$99a=1$$\n",
    "$$a=\\frac{1}{99}$$"
   ]
  },
  {
   "cell_type": "markdown",
   "id": "2761edde",
   "metadata": {},
   "source": [
    "$$a=1.0(01)$$\n",
    "$$10a=10.(01)$$\n",
    "$$10a=10+0.(01)$$\n",
    "$$10a=10+\\frac{1}{99}$$\n",
    "$$10a=\\frac{991}{99}$$\n",
    "$$a=\\frac{991}{990}$$"
   ]
  },
  {
   "cell_type": "markdown",
   "id": "4efee63a",
   "metadata": {},
   "source": [
    "**2. Проверьте любым способом, являются ли данные логические формулы\n",
    "тавтологией:**\n",
    "<br>$а)\\; (A \\vee B) → (B ∨ A̅)$\n",
    "<br>$б)\\; A → (A ∨ (\\bar B ∧ A))$"
   ]
  },
  {
   "cell_type": "markdown",
   "id": "b7852310",
   "metadata": {},
   "source": [
    "**Решение:**"
   ]
  },
  {
   "cell_type": "markdown",
   "id": "1bd69683",
   "metadata": {},
   "source": [
    "а) <table style=\"width:100%\">\n",
    "    <tr>\n",
    "        <th>A</th>\n",
    "        <th>B</th>\n",
    "        <th>$A \\vee B$</th>\n",
    "        <th>$\\bar A$</th>\n",
    "        <th>$B \\vee \\bar A$</th>\n",
    "        <th>$(A \\vee B) \\rightarrow (B \\vee \\bar A)$</th>\n",
    "    </tr>\n",
    "    <tr>\n",
    "        <td>1</td>\n",
    "        <td>1</td>\n",
    "        <td>1</td>\n",
    "        <td>0</td>\n",
    "        <td>1</td>\n",
    "        <td>1</td>\n",
    "    </tr>\n",
    "    <tr>\n",
    "        <td>1</td>\n",
    "        <td>0</td>\n",
    "        <td>1</td>\n",
    "        <td>0</td>\n",
    "        <td>1</td>\n",
    "        <td>1</td>\n",
    "    </tr>\n",
    "    <tr>\n",
    "        <td>0</td>\n",
    "        <td>1</td>\n",
    "        <td>1</td>\n",
    "        <td>1</td>\n",
    "        <td>1</td>\n",
    "        <td>1</td>\n",
    "    </tr>\n",
    "    <tr>\n",
    "        <td>0</td>\n",
    "        <td>0</td>\n",
    "        <td>0</td>\n",
    "        <td>1</td>\n",
    "        <td>0</td>\n",
    "        <td>1</td>\n",
    "    </tr>\n",
    "</table>"
   ]
  },
  {
   "cell_type": "markdown",
   "id": "15d07fb4",
   "metadata": {},
   "source": [
    "Данная логическая формула является тавтологией, т.к. высказывание истинно при любых входящих в него простых высказываний."
   ]
  },
  {
   "cell_type": "markdown",
   "id": "6c4e29a3",
   "metadata": {},
   "source": [
    "б) <table style=\"width:100%\">\n",
    "    <tr>\n",
    "        <th>A</th>\n",
    "        <th>B</th>\n",
    "        <th>$\\bar B$</th>\n",
    "        <th>$\\bar B \\wedge A$</th>\n",
    "        <th>$A \\vee (\\bar B \\wedge A)$</th>\n",
    "        <th>$A \\rightarrow (A \\vee (\\bar B \\wedge A))$</th>\n",
    "    </tr>\n",
    "    <tr>\n",
    "        <td>1</td>\n",
    "        <td>1</td>\n",
    "        <td>0</td>\n",
    "        <td>0</td>\n",
    "        <td>1</td>\n",
    "        <td>1</td>\n",
    "    </tr>\n",
    "    <tr>\n",
    "        <td>1</td>\n",
    "        <td>0</td>\n",
    "        <td>1</td>\n",
    "        <td>1</td>\n",
    "        <td>1</td>\n",
    "        <td>1</td>\n",
    "    </tr>\n",
    "    <tr>\n",
    "        <td>0</td>\n",
    "        <td>1</td>\n",
    "        <td>0</td>\n",
    "        <td>0</td>\n",
    "        <td>0</td>\n",
    "        <td>1</td>\n",
    "    </tr>\n",
    "    <tr>\n",
    "        <td>0</td>\n",
    "        <td>0</td>\n",
    "        <td>1</td>\n",
    "        <td>0</td>\n",
    "        <td>0</td>\n",
    "        <td>1</td>\n",
    "    </tr>\n",
    "</table>"
   ]
  },
  {
   "cell_type": "markdown",
   "id": "a81f0e80",
   "metadata": {},
   "source": [
    "Данная логическая формула является тавтологией."
   ]
  },
  {
   "cell_type": "markdown",
   "id": "ac8621ed",
   "metadata": {},
   "source": [
    "**3. Сформулируйте словесно высказывания:**\n",
    "<br>$а)\\; (\\bar A \\vee B)\\rightarrow \\bar C$\n",
    "<br>$б)\\; C \\rightarrow (A \\vee \\bar B)$\n",
    "<br>где А: сегодня светит солнце; В: сегодня сыро; С: я поеду на дачу."
   ]
  },
  {
   "cell_type": "markdown",
   "id": "5735473d",
   "metadata": {},
   "source": [
    "**Решение:**"
   ]
  },
  {
   "cell_type": "markdown",
   "id": "91acf17c",
   "metadata": {},
   "source": [
    "а) Если сегодня не светит солнце или сегодня сыро, то я не поеду на дачу."
   ]
  },
  {
   "cell_type": "markdown",
   "id": "2a50c871",
   "metadata": {},
   "source": [
    "б) Я поеду на дачу, если сегодня будет светить солнце или не будет сыро."
   ]
  }
 ],
 "metadata": {
  "kernelspec": {
   "display_name": "Python 3 (ipykernel)",
   "language": "python",
   "name": "python3"
  },
  "language_info": {
   "codemirror_mode": {
    "name": "ipython",
    "version": 3
   },
   "file_extension": ".py",
   "mimetype": "text/x-python",
   "name": "python",
   "nbconvert_exporter": "python",
   "pygments_lexer": "ipython3",
   "version": "3.9.12"
  }
 },
 "nbformat": 4,
 "nbformat_minor": 5
}
