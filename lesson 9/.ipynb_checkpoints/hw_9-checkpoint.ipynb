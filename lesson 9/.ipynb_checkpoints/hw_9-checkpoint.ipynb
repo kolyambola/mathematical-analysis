{
 "cells": [
  {
   "cell_type": "markdown",
   "id": "be9b54a1",
   "metadata": {},
   "source": [
    "1. Найти $\\frac{dz}{dt},$ если $z=z(x;y),\\;x=x(t),\\;y=y(t):$"
   ]
  },
  {
   "cell_type": "markdown",
   "id": "b7143e49",
   "metadata": {},
   "source": [
    "$$z=x^{2}+y^{2}+xy,\\;x=a\\sin t,\\;y=a \\cos t.$$"
   ]
  },
  {
   "cell_type": "markdown",
   "id": "0fe6d655",
   "metadata": {},
   "source": [
    "__Решение:__"
   ]
  },
  {
   "cell_type": "markdown",
   "id": "cb62f8e9",
   "metadata": {},
   "source": [
    "$$z(t)=a^{2}\\sin^{2} t + a^{2}\\cos^{2}t+a^{2}\\sin t \\cos t=a^{2}(1+\\sin t \\cos t)$$"
   ]
  },
  {
   "cell_type": "markdown",
   "id": "a26ce168",
   "metadata": {},
   "source": [
    "$$\\frac{dz}{dt}=a^{2}\\cos t \\cos t - a^{2} \\sin t \\sin t=a^{2}(\\cos^{2}t-\\sin^{2}t)=a^{2}\\cos 2t$$"
   ]
  },
  {
   "cell_type": "markdown",
   "id": "dff5096c",
   "metadata": {},
   "source": [
    "2. Для данных $z=f(x;y),\\;x=x(u;v),\\;y=y(u;v)$ найти $\\frac{\\partial z}{\\partial u},\\;\\frac{\\partial z}{\\partial v}$ и $dz:$"
   ]
  },
  {
   "cell_type": "markdown",
   "id": "b8f4a321",
   "metadata": {},
   "source": [
    "$$z=x^{3}+y^{3},\\;где\\;x=uv,\\;y=\\frac{u}{v}$$"
   ]
  },
  {
   "cell_type": "markdown",
   "id": "8a8f6d81",
   "metadata": {},
   "source": [
    "__Решение:__"
   ]
  },
  {
   "cell_type": "markdown",
   "id": "d9d7c516",
   "metadata": {},
   "source": [
    "$$\\frac{\\partial z}{\\partial u}=\\frac{\\partial z}{\\partial x}\\cdot\\frac{\\partial x}{\\partial u}+\\frac{\\partial z}{\\partial y}\\cdot\\frac{\\partial y}{\\partial u}$$"
   ]
  },
  {
   "cell_type": "markdown",
   "id": "506b9fc9",
   "metadata": {},
   "source": [
    "$$\\frac{\\partial z}{\\partial v}=\\frac{\\partial z}{\\partial x}\\cdot\\frac{\\partial x}{\\partial v}+\\frac{\\partial z}{\\partial y}\\cdot\\frac{\\partial y}{\\partial v}$$"
   ]
  },
  {
   "cell_type": "markdown",
   "id": "3ee7d5c1",
   "metadata": {},
   "source": [
    "$$\\frac{\\partial z}{\\partial x}=3x^{2},\\;\\;\\;\\frac{\\partial z}{\\partial y}=3y^{2}$$"
   ]
  },
  {
   "cell_type": "markdown",
   "id": "89eb3285",
   "metadata": {},
   "source": [
    "$$\\frac{\\partial x}{\\partial u}=v,\\;\\;\\;\\frac{\\partial y}{\\partial u}=\\frac{1}{v}$$"
   ]
  },
  {
   "cell_type": "markdown",
   "id": "eb83f203",
   "metadata": {},
   "source": [
    "$$\\frac{\\partial x}{\\partial v}=u,\\;\\;\\;\\frac{\\partial y}{\\partial v}=-\\frac{u}{v^{2}}$$"
   ]
  },
  {
   "cell_type": "markdown",
   "id": "0ab9df25",
   "metadata": {},
   "source": [
    "$$\\frac{\\partial z}{\\partial u}=3x^{2}v+\\frac{3y^{2}}{v}$$"
   ]
  },
  {
   "cell_type": "markdown",
   "id": "754a5304",
   "metadata": {},
   "source": [
    "$$\\frac{\\partial z}{\\partial v}=3x^{2}u-\\frac{3y^{2}u}{v^{2}}$$"
   ]
  },
  {
   "cell_type": "markdown",
   "id": "1f25303e",
   "metadata": {},
   "source": [
    "$$z^{'}_{u}=3u^{2}v^{3}+\\frac{3u^{2}}{v^{3}}$$"
   ]
  },
  {
   "cell_type": "markdown",
   "id": "842a3276",
   "metadata": {},
   "source": [
    "$$z^{'}_{v}=3v^{2}u^{3}-\\frac{3u^{3}}{v^{4}}$$"
   ]
  },
  {
   "cell_type": "markdown",
   "id": "fd56cc90",
   "metadata": {},
   "source": [
    "3. Найти производную $y^{'}(x)$ неявной функции, заданной уравнением:"
   ]
  },
  {
   "cell_type": "markdown",
   "id": "c8483175",
   "metadata": {},
   "source": [
    "$$xe^{2y}-y \\ln x=8$$"
   ]
  },
  {
   "cell_type": "markdown",
   "id": "3b073990",
   "metadata": {},
   "source": [
    "__Решение:__"
   ]
  },
  {
   "cell_type": "markdown",
   "id": "e27369f3",
   "metadata": {},
   "source": [
    "$$y^{'}(x)=-\\frac{F^{'}_{x}(x;y)}{F^{'}_{y}(x;y)}$$"
   ]
  },
  {
   "cell_type": "markdown",
   "id": "bd142e43",
   "metadata": {},
   "source": [
    "$$F^{'}_{x}(x;y)=\\left( xe^{2y}-y \\ln x-8\\right)^{'}=e^{2y}-\\frac{y}{x}$$"
   ]
  },
  {
   "cell_type": "markdown",
   "id": "29fbd6fb",
   "metadata": {},
   "source": [
    "$$F^{'}_{y}(x;y)=\\left( xe^{2y}-y \\ln x-8\\right)^{'}=2xe^{2y}-\\ln x$$"
   ]
  },
  {
   "cell_type": "markdown",
   "id": "951f3523",
   "metadata": {},
   "source": [
    "$$y^{'}(x)=-\\frac{e^{2y}-\\frac{y}{x}}{2xe^{2y}-\\ln x}$$"
   ]
  },
  {
   "cell_type": "markdown",
   "id": "a96c0a58",
   "metadata": {},
   "source": [
    "4. Составить уравнение касательной прямой и нормали к кривой $y=y(x),$ заданной уравнением $F(x;y)=0$ в точке $M_{0}(x_{0};y_{0}):$"
   ]
  },
  {
   "cell_type": "markdown",
   "id": "67941e0c",
   "metadata": {},
   "source": [
    "$$x^{3}y-y^{3}x=6,\\;\\;M_{0}(2;1)$$"
   ]
  },
  {
   "cell_type": "markdown",
   "id": "b7709344",
   "metadata": {},
   "source": [
    "__Решение:__"
   ]
  },
  {
   "cell_type": "markdown",
   "id": "ceac1744",
   "metadata": {},
   "source": [
    "$$F(x;y)=x^{3}y-y^{3}x-6$$"
   ]
  },
  {
   "cell_type": "markdown",
   "id": "4fbf687a",
   "metadata": {},
   "source": [
    "$$F(2;1)=8\\cdot 1-1 \\cdot 2-6=0$$"
   ]
  },
  {
   "cell_type": "markdown",
   "id": "45e20a1c",
   "metadata": {},
   "source": [
    "$$F^{'}_{x}(x;y)=3x^{2}y-y^{3}$$"
   ]
  },
  {
   "cell_type": "markdown",
   "id": "015a18cd",
   "metadata": {},
   "source": [
    "$$F^{'}_{y}(x;y)=x^{3}-3y^{2}x$$"
   ]
  },
  {
   "cell_type": "markdown",
   "id": "872d2f45",
   "metadata": {},
   "source": [
    "$$F^{'}_{x}(2;1)=3\\cdot 4\\cdot 1-1=11$$"
   ]
  },
  {
   "cell_type": "markdown",
   "id": "d486af75",
   "metadata": {},
   "source": [
    "$$F^{'}_{y}(2;1)=8-3\\cdot 1 \\cdot 2=2$$"
   ]
  },
  {
   "cell_type": "markdown",
   "id": "eccedeb1",
   "metadata": {},
   "source": [
    "Уравнение касательной: $y-y_{0}=k(x-x_{0})$"
   ]
  },
  {
   "cell_type": "markdown",
   "id": "212d713e",
   "metadata": {},
   "source": [
    "$$k=y^{'}(x_{0})=-\\frac{F^{'}_{x}(x_{0};y_{0})}{F^{'}_{y}(x_{0};y_{0})}=-\\frac{11}{2}$$"
   ]
  },
  {
   "cell_type": "markdown",
   "id": "60bab116",
   "metadata": {},
   "source": [
    "$$(t):\\;y-1=-\\frac{11}{2}(x-2)$$"
   ]
  },
  {
   "cell_type": "markdown",
   "id": "ad12313d",
   "metadata": {},
   "source": [
    "Уравнение нормали: $y-y_{0}=-\\frac{1}{k}(x-x_{0})$"
   ]
  },
  {
   "cell_type": "markdown",
   "id": "08b9c463",
   "metadata": {},
   "source": [
    "$$(n):\\;y-1=\\frac{2}{11}(x-2)$$"
   ]
  },
  {
   "cell_type": "markdown",
   "id": "ded7f312",
   "metadata": {},
   "source": [
    "5. Для данных функций найти требуемую частную производную или дифференциал:"
   ]
  },
  {
   "cell_type": "markdown",
   "id": "ccec0a02",
   "metadata": {},
   "source": [
    "$$1.\\;z=\\sin x \\sin y,\\;d^{2}z;$$"
   ]
  },
  {
   "cell_type": "markdown",
   "id": "654922f3",
   "metadata": {},
   "source": [
    "$$2.\\;z=xy+\\sin (x+y),\\;\\frac{\\partial^{2} z}{\\partial x^{2}}.$$"
   ]
  },
  {
   "cell_type": "markdown",
   "id": "d68c42fe",
   "metadata": {},
   "source": [
    "__Решение:__"
   ]
  },
  {
   "cell_type": "markdown",
   "id": "b950a968",
   "metadata": {},
   "source": [
    "$$1.\\;z=\\sin x \\sin y$$"
   ]
  },
  {
   "cell_type": "markdown",
   "id": "3301cf46",
   "metadata": {},
   "source": [
    "$$d^{2}z=\\frac{\\partial^{2} z}{\\partial x^{2}}+2\\frac{\\partial^{2} z}{\\partial x \\partial y}+\\frac{\\partial^{2} z}{\\partial y^{2}}$$"
   ]
  },
  {
   "cell_type": "markdown",
   "id": "73040415",
   "metadata": {},
   "source": [
    "$$\\frac{\\partial^{2} z}{\\partial x^{2}}=-\\sin x \\sin y$$"
   ]
  },
  {
   "cell_type": "markdown",
   "id": "ab742fad",
   "metadata": {},
   "source": [
    "$$\\frac{\\partial^{2} z}{\\partial y^{2}}=-\\sin x \\sin y$$"
   ]
  },
  {
   "cell_type": "markdown",
   "id": "383da473",
   "metadata": {},
   "source": [
    "$$\\frac{\\partial^{2} z}{\\partial x \\partial y}=\\cos x \\cos y$$"
   ]
  },
  {
   "cell_type": "markdown",
   "id": "024d91c2",
   "metadata": {},
   "source": [
    "$$d^{2}z=-\\sin x \\sin y+2\\cos x \\cos y-\\sin x \\sin y=-2(\\sin x \\sin y-\\cos x \\cos y)$$"
   ]
  },
  {
   "cell_type": "markdown",
   "id": "9db9a974",
   "metadata": {},
   "source": [
    "$$2.\\;z=xy+\\sin (x+y)$$"
   ]
  },
  {
   "cell_type": "markdown",
   "id": "11f5433c",
   "metadata": {},
   "source": [
    "$$\\frac{\\partial z}{\\partial x}=y+\\cos (x+y)\\cdot (1+y)$$"
   ]
  },
  {
   "cell_type": "markdown",
   "id": "777e915e",
   "metadata": {},
   "source": [
    "$$\\frac{\\partial^{2} z}{\\partial x^{2}}=-\\sin (x+y)\\cdot (1+y)^{2}=-(1+y)^{2}\\sin (x+y)$$"
   ]
  }
 ],
 "metadata": {
  "kernelspec": {
   "display_name": "Python 3 (ipykernel)",
   "language": "python",
   "name": "python3"
  },
  "language_info": {
   "codemirror_mode": {
    "name": "ipython",
    "version": 3
   },
   "file_extension": ".py",
   "mimetype": "text/x-python",
   "name": "python",
   "nbconvert_exporter": "python",
   "pygments_lexer": "ipython3",
   "version": "3.9.12"
  }
 },
 "nbformat": 4,
 "nbformat_minor": 5
}
