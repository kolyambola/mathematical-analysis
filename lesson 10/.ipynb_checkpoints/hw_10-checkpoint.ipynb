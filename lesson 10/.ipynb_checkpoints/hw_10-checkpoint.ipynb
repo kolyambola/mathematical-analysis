{
 "cells": [
  {
   "cell_type": "markdown",
   "id": "95b3b274",
   "metadata": {},
   "source": [
    "1. Найти интегралы:"
   ]
  },
  {
   "cell_type": "markdown",
   "id": "2ba0f26f",
   "metadata": {},
   "source": [
    "$$1)\\;\\int \\frac{x^{4}+x^{2}-6x}{x^{3}}dx=\\int \\left( x+\\frac{1}{x}-\\frac{6}{x^{2}} \\right) dx=\\frac{x^{2}}{2}+\\ln |x|+\\frac{6}{x}+C;$$"
   ]
  },
  {
   "cell_type": "markdown",
   "id": "c392f510",
   "metadata": {},
   "source": [
    "$$2)\\;\\int \\cos 2x dx=\\frac{1}{2} \\sin 2x + C;$$"
   ]
  },
  {
   "cell_type": "markdown",
   "id": "058d25ca",
   "metadata": {},
   "source": [
    "$$3)\\;\\int \\frac{dx}{(3x+2)^{4}}=\\int (3x+2)^{-4}dx=\\frac{(3x+2)^{-3}}{-3}\\cdot \\frac{1}{3}+C=-\\frac{1}{9(3x+2)^{3}}+C;$$"
   ]
  },
  {
   "cell_type": "markdown",
   "id": "a8899d39",
   "metadata": {},
   "source": [
    "$$4)\\;\\int\\frac{5x-1}{\\sqrt{4-x^{2}}}=5\\int\\frac{xdx}{\\sqrt{4-x^{2}}}-\\int\\frac{dx}{\\sqrt{4-x^{2}}}=-\\frac{5}{2}\\int\\frac{d(4-x^{2})}{\\sqrt{4-x^{2}}}-\\int\\frac{dx}{\\sqrt{4-x^{2}}}=-5\\sqrt{4-x^{2}}-\\arcsin \\frac{x}{2} + C;$$\n",
    "$$d(4-x^{2})=-2xdx;$$"
   ]
  },
  {
   "cell_type": "markdown",
   "id": "978b2357",
   "metadata": {},
   "source": [
    "$$5)\\;\\int \\frac{dx}{\\sqrt{x}(1+\\sqrt{x})}=2\\int \\frac{d(1+\\sqrt{x})}{(1+\\sqrt{x})}=2 \\ln |1+\\sqrt{x}|+C;$$\n",
    "$$d(1+\\sqrt{x})=\\frac{1}{2\\sqrt{x}}dx$$"
   ]
  },
  {
   "cell_type": "markdown",
   "id": "a4bf4441",
   "metadata": {},
   "source": [
    "$$6)\\;\\int x^{2} \\cos x dx=\\begin{vmatrix}\n",
    "u=x^{2} & du=2xdx\\\\ \n",
    "dv=\\cos xdx & v=\\sin x\\\\  \n",
    "\\end{vmatrix} = x^{2}\\sin x-2\\int x\\sin xdx=x^{2}\\sin x-2\\begin{vmatrix}\n",
    "u=x & du=dx\\\\ \n",
    "dv=\\sin xdx & v=-\\cos x\\\\  \n",
    "\\end{vmatrix} = x^{2}\\sin x-2\\cdot \\left(x\\cdot (-\\cos x) + \\int \\cos xdx \\right)=x^{2}\\sin x + 2x\\cos x - 2\\sin x + C;$$"
   ]
  },
  {
   "cell_type": "markdown",
   "id": "3b55c36b",
   "metadata": {},
   "source": [
    "Для решения используем интегрирование по частям: $\\int udv=uv-\\int vdu$."
   ]
  },
  {
   "cell_type": "markdown",
   "id": "671324aa",
   "metadata": {},
   "source": [
    "$$7)\\;\\int \\arctan x dx = \\begin{vmatrix}\n",
    "u=\\arctan x & du=\\frac{dx}{1+x^{2}}\\\\ \n",
    "dv=dx & v=x\\\\  \n",
    "\\end{vmatrix}=x\\arctan x - \\int \\frac{xdx}{1+x^{2}}=x\\arctan x - \\int \\frac{d(1+x^{2})}{1+x^{2}}=x\\arctan x - \\frac{1}{2} \\ln |1+x^{2}| + C;$$\n",
    "$$d(1+x^{2})=2xdx.$$"
   ]
  },
  {
   "cell_type": "markdown",
   "id": "dba94d80",
   "metadata": {},
   "source": [
    "$$8)\\;\\int \\frac{dx}{(x-1)^{5}}=\\int (x-1)^{-5}dx=-\\frac{(x-1)^{-4}}{4}=-\\frac{1}{4(x-1)^{4}} + C.$$"
   ]
  },
  {
   "cell_type": "markdown",
   "id": "a2ee5576",
   "metadata": {},
   "source": [
    "$$9)\\;\\int \\frac{(x+6)dx}{x^{2}-2x+17} = \\int \\frac{(2x-2)\\cdot \\frac{1}{2} + 7}{x^{2}-2x+17} = \\frac{1}{2} \\int \\frac{(2x-2)}{x^{2}-2x+17} + 7\\int \\frac{dx}{x^{2}-2x+17} = \\frac{1}{2} \\int \\frac{d(x^{2}-2x+17)}{x^{2}-2x+17} + 7\\int \\frac{dx}{(x-1)^{2} + 16} = \\frac{1}{2} \\ln |x^{2}-2x+17| + \\frac{7}{4} \\arctan \\frac{x-1}{4} + C;$$\n",
    "$$d(x^{2}-2x+17)=(2x-2)dx;$$\n",
    "$$x+6=(2x-2)\\cdot \\frac{1}{2} + 7;$$\n",
    "$$x^{2}-2x+17 = x^{2}-2x + 1 - 1 + 17 = (x-1)^{2} + 16;$$"
   ]
  },
  {
   "cell_type": "markdown",
   "id": "39751fc9",
   "metadata": {},
   "source": [
    "$$15)\\;\\int_{0}^{\\pi} (2x + \\sin 2x)dx=\\left( x^{2} - \\frac{1}{2} \\cos 2x \\right) \\bigg |_{0}^{\\pi}=\\left(\\pi^{2}-\\frac{1}{2} \\right) - \\left(0 - \\frac{1}{2} \\right)=\\pi^{2}.$$"
   ]
  },
  {
   "cell_type": "markdown",
   "id": "d40d00f3",
   "metadata": {},
   "source": [
    "$$17)\\;\\int_{0}^{+\\infty} e^{-4x} dx = \\lim_{b\\to \\infty} \\int_{0}^{b} e^{-4x} dx = \\lim_{b\\to \\infty} \\left( -\\frac{1}{4}\\cdot \\frac{1}{e^{4x}} \\right) \\bigg |_{0}^{b} = -\\frac{1}{4} \\lim_{b\\to \\infty} \\left( \\frac{1}{e^{4x}} \\right) + \\frac{1}{4} \\lim_{b\\to \\infty} \\left( \\frac{1}{e^{4x}} \\right) = \\frac{1}{4}.$$"
   ]
  },
  {
   "cell_type": "markdown",
   "id": "2e3b04f5",
   "metadata": {},
   "source": [
    "$$18)\\;\\int_{0}^{1} \\ln x dx = \\begin{vmatrix}\n",
    "u=\\ln x & du=\\frac{dx}{x}\\\\ \n",
    "dv=dx & v=x\\\\  \n",
    "\\end{vmatrix}=x \\ln x \\bigg |_{0}^{1} - \\int_{0}^{1}x\\frac{dx}{x}=x \\ln x \\bigg |_{0}^{1} - x \\bigg |_{0}^{1} = -1.$$"
   ]
  }
 ],
 "metadata": {
  "kernelspec": {
   "display_name": "Python 3 (ipykernel)",
   "language": "python",
   "name": "python3"
  },
  "language_info": {
   "codemirror_mode": {
    "name": "ipython",
    "version": 3
   },
   "file_extension": ".py",
   "mimetype": "text/x-python",
   "name": "python",
   "nbconvert_exporter": "python",
   "pygments_lexer": "ipython3",
   "version": "3.9.12"
  }
 },
 "nbformat": 4,
 "nbformat_minor": 5
}
