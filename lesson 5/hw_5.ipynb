{
 "cells": [
  {
   "cell_type": "markdown",
   "id": "3fe14603",
   "metadata": {},
   "source": [
    "1. Найти пределы"
   ]
  },
  {
   "cell_type": "markdown",
   "id": "6ae525e5",
   "metadata": {},
   "source": [
    "$$1)\\;\\lim_{x\\to \\infty} [ \\ln(x+3)-\\ln x ]=\\left( \\infty - \\infty \\right)=\\lim_{x\\to \\infty} \\ln \\left( \\frac{x+3}{x} \\right)=\\lim_{x\\to \\infty} \\ln \\left( 1+\\frac{3}{x} \\right)=0;$$"
   ]
  },
  {
   "cell_type": "markdown",
   "id": "b1faba6d",
   "metadata": {},
   "source": [
    "$$2)\\;\\lim_{x\\to 0} \\frac{\\ln (1+2x)}{\\arcsin 3x}=\\left( \\frac{0}{0} \\right)=$$"
   ]
  },
  {
   "cell_type": "markdown",
   "id": "620af6d0",
   "metadata": {},
   "source": [
    "$$3)\\;\\lim_{x\\to 0} \\frac{7^{x}-1}{3^{x}-1}=\\left( \\frac{0}{0} \\right)=$$"
   ]
  },
  {
   "cell_type": "code",
   "execution_count": null,
   "id": "e480ffec",
   "metadata": {},
   "outputs": [],
   "source": []
  }
 ],
 "metadata": {
  "kernelspec": {
   "display_name": "Python 3 (ipykernel)",
   "language": "python",
   "name": "python3"
  },
  "language_info": {
   "codemirror_mode": {
    "name": "ipython",
    "version": 3
   },
   "file_extension": ".py",
   "mimetype": "text/x-python",
   "name": "python",
   "nbconvert_exporter": "python",
   "pygments_lexer": "ipython3",
   "version": "3.9.12"
  }
 },
 "nbformat": 4,
 "nbformat_minor": 5
}
