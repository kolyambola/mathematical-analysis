{
 "cells": [
  {
   "cell_type": "markdown",
   "id": "5f6f102f",
   "metadata": {},
   "source": [
    "1. Найти интервалы возрастания и убывания функций:"
   ]
  },
  {
   "cell_type": "markdown",
   "id": "cd53cd5d",
   "metadata": {},
   "source": [
    "$$1)\\; f(x)=x+e^{-x};$$\n",
    "$$2)\\; f(x)=x \\ln x;$$\n",
    "$$3)\\; y=\\frac{1}{1-x^{2}}.$$"
   ]
  },
  {
   "cell_type": "markdown",
   "id": "be94864c",
   "metadata": {},
   "source": [
    "__Решение:__"
   ]
  },
  {
   "cell_type": "markdown",
   "id": "e223fba9",
   "metadata": {},
   "source": [
    "$$1)\\; f(x)=x+e^{-x}$$\n",
    "$$f'(x)=1-e^{-x}$$\n",
    "$$f'(x)=0$$\n",
    "$$1-e^{-x}=0$$\n",
    "$$e^{-x}=1$$\n",
    "$$x=0$$"
   ]
  },
  {
   "cell_type": "markdown",
   "id": "75f0c98d",
   "metadata": {},
   "source": [
    "<img src='1.1.png'>"
   ]
  },
  {
   "cell_type": "markdown",
   "id": "169b134e",
   "metadata": {},
   "source": [
    "$$(- \\infty;0)\\;-\\; функция\\; убывает$$\n",
    "$$(0;+\\infty)\\;-\\; функция\\; возрастает$$"
   ]
  },
  {
   "cell_type": "markdown",
   "id": "344a3713",
   "metadata": {},
   "source": [
    "$$2)\\; f(x)=x \\ln x$$\n",
    "$$f'(x)=\\ln x + 1$$\n",
    "$$f'(x)=0$$\n",
    "$$\\ln x + 1=0$$\n",
    "$$\\ln x = -1$$\n",
    "$$e^{\\ln x}=e^{-1}$$\n",
    "$$x=e^{-1}$$\n",
    "$$x=\\frac{1}{e}$$"
   ]
  },
  {
   "cell_type": "markdown",
   "id": "2c558a1b",
   "metadata": {},
   "source": [
    "<img src='1.2.png'>"
   ]
  },
  {
   "cell_type": "markdown",
   "id": "e19d53b7",
   "metadata": {},
   "source": [
    "$$\\left(0;\\frac{1}{e}\\right)\\;-\\; функция\\; убывает$$\n",
    "$$\\left(\\frac{1}{e};+\\infty \\right)\\;-\\; функция\\; возрастает$$"
   ]
  },
  {
   "cell_type": "markdown",
   "id": "9bd7b64f",
   "metadata": {},
   "source": [
    "$$3)\\; y=\\frac{1}{1-x^{2}}$$\n",
    "$$y'=\\frac{2x}{(1-x^{2})^{2}}$$\n",
    "$$y'=0$$\n",
    "$$\\frac{2x}{(1-x^{2})^{2}}=0$$\n",
    "$$x=0$$"
   ]
  },
  {
   "cell_type": "markdown",
   "id": "46d8cdc8",
   "metadata": {},
   "source": [
    "<img src='1.3.png'>"
   ]
  },
  {
   "cell_type": "markdown",
   "id": "464ccb85",
   "metadata": {},
   "source": [
    "$$\\left( -\\infty;-1 \\right) \\cup \\left( -1;0 \\right) \\; - \\; функция\\; убывает$$"
   ]
  },
  {
   "cell_type": "markdown",
   "id": "ace0c6bf",
   "metadata": {},
   "source": [
    "$$\\left( 0;1 \\right) \\cup \\left( 1;+\\infty \\right) \\; - \\; функция\\; возрастает$$"
   ]
  },
  {
   "cell_type": "markdown",
   "id": "dd00ff23",
   "metadata": {},
   "source": [
    "2. Найти экстремумы функций:"
   ]
  },
  {
   "cell_type": "markdown",
   "id": "38c66c2d",
   "metadata": {},
   "source": [
    "$$1)\\; f(x)=x^{3}-3x+1;$$\n",
    "$$2)\\; y=e^{x^{2}-4x+5};$$\n",
    "$$3)\\; y=x-arctgx.$$"
   ]
  },
  {
   "cell_type": "markdown",
   "id": "7fe5c0da",
   "metadata": {},
   "source": [
    "__Решение:__"
   ]
  },
  {
   "cell_type": "markdown",
   "id": "15de1709",
   "metadata": {},
   "source": [
    "$$1)\\; f(x)=x^{3}-3x+1$$\n",
    "$$f'(x)=3x^{2}-3$$\n",
    "$$f'(x)=0$$\n",
    "$$3x^{2}-3=0$$\n",
    "$$x^{2}=1$$\n",
    "$$x=\\pm 1$$"
   ]
  },
  {
   "cell_type": "markdown",
   "id": "41bfcdf0",
   "metadata": {},
   "source": [
    "Находим точки экстремума функции"
   ]
  },
  {
   "cell_type": "markdown",
   "id": "9b4b092d",
   "metadata": {},
   "source": [
    "$$f(-1)=3$$\n",
    "$$f(1)=-1$$"
   ]
  },
  {
   "cell_type": "markdown",
   "id": "031bd733",
   "metadata": {},
   "source": [
    "$$2)\\; y=e^{x^{2}-4x+5}$$\n",
    "$$y'=e^{x^{2}-4x+5}(2x-4)$$\n",
    "$$y'=0$$\n",
    "$$e^{x^{2}-4x+5}(2x-4)=0$$\n",
    "$$2x-4=0$$\n",
    "$$x=2$$"
   ]
  },
  {
   "cell_type": "markdown",
   "id": "6db154fe",
   "metadata": {},
   "source": [
    "Находим точку экстремума функции"
   ]
  },
  {
   "cell_type": "markdown",
   "id": "997d8a8c",
   "metadata": {},
   "source": [
    "$$y(2)=e$$"
   ]
  },
  {
   "cell_type": "markdown",
   "id": "6b251c3f",
   "metadata": {},
   "source": [
    "$$3)\\; y=x-arctgx$$\n",
    "$$y'=1-\\frac{1}{1+x^{2}}$$\n",
    "$$y'=0$$\n",
    "$$1-\\frac{1}{1+x^{2}}=0$$\n",
    "$$1+x^{3}=1$$\n",
    "$$x^{2}=0$$\n",
    "$$x=0$$"
   ]
  },
  {
   "cell_type": "markdown",
   "id": "a1c85b1c",
   "metadata": {},
   "source": [
    "Находим точку экстремума функции"
   ]
  },
  {
   "cell_type": "markdown",
   "id": "6242e42b",
   "metadata": {},
   "source": [
    "$$y(0)=0$$"
   ]
  },
  {
   "cell_type": "markdown",
   "id": "c4d80a20",
   "metadata": {},
   "source": [
    "3. Найти интервалы выпуклости и точки перегиба функций:"
   ]
  },
  {
   "cell_type": "markdown",
   "id": "55bab1b4",
   "metadata": {},
   "source": [
    "$$1)\\;f(x)=e^{-x^{2}};$$\n",
    "$$2)\\;y=\\cos x;$$\n",
    "$$3)\\;y=x^{5}-10x^{2}+7x.$$"
   ]
  },
  {
   "cell_type": "markdown",
   "id": "6ff8c938",
   "metadata": {},
   "source": [
    "__Решение:__"
   ]
  },
  {
   "cell_type": "markdown",
   "id": "d8562f46",
   "metadata": {},
   "source": [
    "$$1)\\;f(x)=e^{-x^{2}}$$\n",
    "$$f'(x)=-2xe^{-x^{2}}$$\n",
    "$$f''(x)=-2e^{-x^{2}}-2xe^{-x^{2}}(-2x)=-2e^{-x^{2}}+4x^{2}e^{-x^{2}}=-2e^{-x^{2}}(1-2x^{2})$$\n",
    "$$f''(x)=0$$\n",
    "$$-2e^{-x^{2}}(1-2x^{2})=0$$\n",
    "$$1-2x^{2}=0$$\n",
    "$$2x^{2}=1$$\n",
    "$$x^{2}=\\frac{1}{2}$$\n",
    "$$x=\\pm \\frac{1}{\\sqrt{2}}$$"
   ]
  },
  {
   "cell_type": "markdown",
   "id": "da279bb6",
   "metadata": {},
   "source": [
    "<img src='3.1.png'>"
   ]
  },
  {
   "cell_type": "markdown",
   "id": "28255965",
   "metadata": {},
   "source": [
    "$$\\left(- \\infty; -\\frac{1}{\\sqrt{2}} \\right) \\cup \\left(\\frac{1}{\\sqrt{2}};+\\infty \\right) \\;-\\;функция\\; выпукла\\; вниз$$"
   ]
  },
  {
   "cell_type": "markdown",
   "id": "12704f76",
   "metadata": {},
   "source": [
    "$$\\left(-\\frac{1}{\\sqrt{2}}; \\frac{1}{\\sqrt{2}}\\right) \\;-\\;функция\\; выпукла\\; вверх$$"
   ]
  },
  {
   "cell_type": "markdown",
   "id": "a34c53e4",
   "metadata": {},
   "source": [
    "Точки перегиба функции: $x_{1}=-\\frac{1}{\\sqrt{2}}; x_{2}=\\frac{1}{\\sqrt{2}}.$"
   ]
  },
  {
   "cell_type": "markdown",
   "id": "1b8c250d",
   "metadata": {},
   "source": [
    "$$3)\\;y=x^{5}-10x^{2}+7x$$\n",
    "$$y'=5x^{4}-20x+7$$\n",
    "$$y''=20x^{3}-20$$\n",
    "$$y''=0$$\n",
    "$$20x^{3}-20=0$$\n",
    "$$x^{3}=1$$\n",
    "$$x=1$$"
   ]
  },
  {
   "cell_type": "markdown",
   "id": "0873187c",
   "metadata": {},
   "source": [
    "<img src='3.3.png'>"
   ]
  },
  {
   "cell_type": "markdown",
   "id": "cf047b59",
   "metadata": {},
   "source": [
    "Точка перегиба функции: $x=1$."
   ]
  },
  {
   "cell_type": "markdown",
   "id": "56119244",
   "metadata": {},
   "source": [
    "4. Найти асимптоты графиков функций:"
   ]
  },
  {
   "cell_type": "markdown",
   "id": "ccbda844",
   "metadata": {},
   "source": [
    "$$1)\\;y=\\frac{3x}{x+2};$$\n",
    "$$2)\\;y=e^{-\\frac{1}{x}}.$$"
   ]
  },
  {
   "cell_type": "markdown",
   "id": "1e1077ab",
   "metadata": {},
   "source": [
    "__Решение:__"
   ]
  },
  {
   "cell_type": "markdown",
   "id": "5e2e55f3",
   "metadata": {},
   "source": [
    "$$1)\\;y=\\frac{3x}{x+2}$$"
   ]
  },
  {
   "cell_type": "markdown",
   "id": "1ce84fca",
   "metadata": {},
   "source": [
    "$$x=-2\\;-\\;точка \\;разрыва \\;2 \\;рода$$"
   ]
  },
  {
   "cell_type": "markdown",
   "id": "411d10f4",
   "metadata": {},
   "source": [
    "$$\\lim_{x\\to -2+0} \\frac{3x}{x+2}=+\\infty$$\n",
    "$$\\lim_{x\\to -2-0} \\frac{3x}{x+2}=-\\infty$$"
   ]
  },
  {
   "cell_type": "markdown",
   "id": "baaf6982",
   "metadata": {},
   "source": [
    "$$x=-2\\;-\\;вертикальная \\;асимптота$$"
   ]
  },
  {
   "cell_type": "markdown",
   "id": "548215f1",
   "metadata": {},
   "source": [
    "$$k=\\lim_{x\\to +\\infty} \\frac{f(x)}{x}=\\lim_{x\\to +\\infty} \\frac{3}{x+2}=0$$"
   ]
  },
  {
   "cell_type": "markdown",
   "id": "14e3a93c",
   "metadata": {},
   "source": [
    "$$b=\\lim_{x\\to +\\infty} (f(x)-kx)=\\lim_{x\\to +\\infty} \\frac{3}{x+2}=3$$"
   ]
  },
  {
   "cell_type": "markdown",
   "id": "1e7261e1",
   "metadata": {},
   "source": [
    "$$y=3\\;-\\;горизонтальная \\;асимптота$$"
   ]
  },
  {
   "cell_type": "markdown",
   "id": "29880aa7",
   "metadata": {},
   "source": [
    "$$2)\\;y=e^{-\\frac{1}{x}}$$"
   ]
  },
  {
   "cell_type": "markdown",
   "id": "69318bbf",
   "metadata": {},
   "source": [
    "$$x=0\\;-\\;точка \\;разрыва \\;2 \\;рода$$"
   ]
  },
  {
   "cell_type": "markdown",
   "id": "093cc196",
   "metadata": {},
   "source": [
    "$$\\lim_{x\\to 0+0} e^{-\\frac{1}{x}}=+\\infty$$\n",
    "$$\\lim_{x\\to 0-0} e^{-\\frac{1}{x}}=-\\infty$$"
   ]
  },
  {
   "cell_type": "markdown",
   "id": "820d52b2",
   "metadata": {},
   "source": [
    "$$x=0\\;-\\;вертикальная \\;асимптота$$"
   ]
  },
  {
   "cell_type": "markdown",
   "id": "d8e1ae4b",
   "metadata": {},
   "source": [
    "$$k=\\lim_{x\\to +\\infty} \\frac{f(x)}{x}=\\lim_{x\\to +\\infty} \\frac{e^{-\\frac{1}{x}}}{x}=\\lim_{x\\to +\\infty} \\frac{1}{xe^{\\frac{1}{x}}}=0$$"
   ]
  },
  {
   "cell_type": "markdown",
   "id": "89de94f6",
   "metadata": {},
   "source": [
    "$$b=\\lim_{x\\to +\\infty} (f(x)-kx)=\\lim_{x\\to +\\infty} \\frac{1}{e^{\\frac{1}{x}}}=1$$"
   ]
  },
  {
   "cell_type": "markdown",
   "id": "1dac0fe8",
   "metadata": {},
   "source": [
    "$$y=1\\;-\\;горизонтальная \\;асимптота$$"
   ]
  },
  {
   "cell_type": "code",
   "execution_count": null,
   "id": "a8b8ed0e",
   "metadata": {},
   "outputs": [],
   "source": []
  }
 ],
 "metadata": {
  "kernelspec": {
   "display_name": "Python 3 (ipykernel)",
   "language": "python",
   "name": "python3"
  },
  "language_info": {
   "codemirror_mode": {
    "name": "ipython",
    "version": 3
   },
   "file_extension": ".py",
   "mimetype": "text/x-python",
   "name": "python",
   "nbconvert_exporter": "python",
   "pygments_lexer": "ipython3",
   "version": "3.9.12"
  }
 },
 "nbformat": 4,
 "nbformat_minor": 5
}
